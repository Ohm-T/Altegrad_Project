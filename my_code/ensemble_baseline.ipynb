{
 "cells": [
  {
   "cell_type": "code",
   "execution_count": 1,
   "id": "d3e87cc0",
   "metadata": {},
   "outputs": [],
   "source": [
    "#from torch.utils.tensorboard import SummaryWriter\n",
    "import torch.nn.functional as F\n",
    "from torch import optim\n",
    "import torch.nn as nn\n",
    "import pandas as pd\n",
    "import numpy as np\n",
    "import time\n",
    "import torch\n",
    "from node2vec import Node2Vec\n",
    "node2vec = Node2Vec(graph_train)\n",
    "model = node2vec.fit()"
   ]
  },
  {
   "cell_type": "code",
   "execution_count": 8,
   "id": "1768f1d4",
   "metadata": {},
   "outputs": [
    {
     "name": "stdout",
     "output_type": "stream",
     "text": [
      "  (0, 2659)\t0.06149261120321289\n",
      "  (0, 5624)\t0.06066983048295409\n",
      "  (0, 3661)\t0.06453838750552988\n",
      "  (0, 8228)\t0.05702822888198667\n",
      "  (0, 8454)\t0.05929196233215155\n",
      "  (0, 5911)\t0.06528939114813927\n",
      "  (0, 295)\t0.057127014497987655\n",
      "  (0, 5927)\t0.05303624546194652\n",
      "  (0, 297)\t0.042408878390136025\n",
      "  (0, 7196)\t0.045462188676295645\n",
      "  (0, 7539)\t0.039399051440049786\n",
      "  (0, 1219)\t0.04217369121444537\n",
      "  (0, 4706)\t0.05071772169400806\n",
      "  (0, 235)\t0.05241401649487533\n",
      "  (0, 8058)\t0.05495239375396609\n",
      "  (0, 1244)\t0.05125736549910664\n",
      "  (0, 906)\t0.054869681864821065\n",
      "  (0, 2579)\t0.06588462904907086\n",
      "  (0, 6887)\t0.06066983048295409\n",
      "  (0, 7101)\t0.06040745570576998\n",
      "  (0, 3077)\t0.04704777226001155\n",
      "  (0, 997)\t0.04847387099204874\n",
      "  (0, 4274)\t0.06192579127271886\n",
      "  (0, 6127)\t0.06284121730862169\n",
      "  (0, 307)\t0.05965257844607174\n",
      "  :\t:\n",
      "  (4887, 2997)\t0.007969595601046764\n",
      "  (4887, 6061)\t0.01637994567904733\n",
      "  (4887, 4941)\t0.019201285801914113\n",
      "  (4887, 7412)\t0.016182409968264116\n",
      "  (4887, 6250)\t0.008848015983356461\n",
      "  (4887, 1688)\t0.20571452809425647\n",
      "  (4887, 7601)\t0.062572931770084\n",
      "  (4887, 2533)\t0.045896234046807455\n",
      "  (4887, 4223)\t0.10360933360844245\n",
      "  (4887, 5491)\t0.11168936249618405\n",
      "  (4887, 3801)\t0.41210521563346714\n",
      "  (4887, 1264)\t0.20167277142031406\n",
      "  (4887, 5067)\t0.11189518739741756\n",
      "  (4887, 3379)\t0.17813716045044414\n",
      "  (4887, 6336)\t0.15393856954608162\n",
      "  (4887, 0)\t0.20639005548806233\n",
      "  (4887, 2954)\t0.1936472614019624\n",
      "  (4887, 7180)\t0.1870761501990326\n",
      "  (4887, 4645)\t0.1258964704941349\n",
      "  (4887, 2109)\t0.1297263612979717\n",
      "  (4887, 8045)\t0.161566715920383\n",
      "  (4887, 422)\t0.05220819323187468\n",
      "  (4887, 843)\t0.09611325834593322\n",
      "  (4887, 6757)\t0.12487058781444269\n",
      "  (4887, 5912)\t0.1305782795749553\n"
     ]
    }
   ],
   "source": [
    "import csv\n",
    "import numpy as np\n",
    "from sklearn.metrics import accuracy_score, log_loss\n",
    "from sklearn.feature_extraction.text import TfidfVectorizer\n",
    "from sklearn.linear_model import LogisticRegression\n",
    "\n",
    "\n",
    "# Read sequences\n",
    "sequences = list()\n",
    "with open('sequences.txt', 'r') as f:\n",
    "    for line in f:\n",
    "        sequences.append(line[:-1])\n",
    "\n",
    "# Split data into training and test sets\n",
    "sequences_train = list()\n",
    "sequences_test = list()\n",
    "proteins_test = list()\n",
    "y_train = list()\n",
    "with open('graph_labels.txt', 'r') as f:\n",
    "    for i,line in enumerate(f):\n",
    "        t = line.split(',')\n",
    "        if len(t[1][:-1]) == 0:\n",
    "            proteins_test.append(t[0])\n",
    "            sequences_test.append(sequences[i])\n",
    "        else:\n",
    "            sequences_train.append(sequences[i])\n",
    "            y_train.append(int(t[1][:-1]))\n",
    "\n",
    "# Map sequences to \n",
    "vec = TfidfVectorizer(analyzer='char', ngram_range=(1, 3))\n",
    "X_train = vec.fit_transform(sequences_train)\n",
    "X_test = vec.transform(sequences_test)"
   ]
  },
  {
   "cell_type": "code",
   "execution_count": 11,
   "id": "b5a3f11c",
   "metadata": {},
   "outputs": [
    {
     "name": "stdout",
     "output_type": "stream",
     "text": [
      "4888\n",
      "(4888, 8466)\n"
     ]
    }
   ],
   "source": [
    "print(len(y_train))\n",
    "print(X_train.shape)"
   ]
  },
  {
   "cell_type": "code",
   "execution_count": 2,
   "id": "2b6dd543",
   "metadata": {},
   "outputs": [
    {
     "name": "stdout",
     "output_type": "stream",
     "text": [
      "[[0.01342103 0.01012509 0.46634627 ... 0.07674363 0.0174905  0.00991321]\n",
      " [0.02174239 0.01612491 0.41744692 ... 0.06925897 0.01545664 0.00779209]\n",
      " [0.05807513 0.01203749 0.2246163  ... 0.04407045 0.01212762 0.005458  ]\n",
      " ...\n",
      " [0.02276303 0.01242107 0.24162626 ... 0.04877692 0.01632783 0.00632687]\n",
      " [0.02810728 0.01194174 0.059683   ... 0.04407273 0.01484368 0.02052648]\n",
      " [0.13940033 0.00669199 0.01607577 ... 0.01033002 0.00609641 0.00639728]] (1223, 18) (1223, 18)\n"
     ]
    }
   ],
   "source": [
    "# Get data\n",
    "\n",
    "y_train = pd.read_csv('sample_submission_test.csv').iloc[: , 1:].to_numpy()\n",
    "X_train_seq = pd.read_csv('sample_submission_seq.csv').iloc[: , 1:].to_numpy()\n",
    "X_train_str = pd.read_csv('sample_submission_str.csv').iloc[: , 1:].to_numpy()\n",
    "\n",
    "print(X_train_seq, np.shape(X_train_str), np.shape(y_train))"
   ]
  },
  {
   "cell_type": "code",
   "execution_count": 3,
   "id": "4d33b7b8",
   "metadata": {},
   "outputs": [],
   "source": [
    "input_dim = 18\n",
    "hidden_dim = 1024\n",
    "dropout = 0.2\n",
    "n_class = 18\n",
    "epochs = 50\n",
    "batch_size = 64\n",
    "learning_rate = 0.001\n",
    "N_train = X_train_seq.shape[0]\n",
    "device = torch.device(\"cuda\") if torch.cuda.is_available() else torch.device(\"cpu\")"
   ]
  },
  {
   "cell_type": "code",
   "execution_count": 4,
   "id": "62351feb",
   "metadata": {},
   "outputs": [],
   "source": [
    "class Ensemble_Baseline(nn.Module):\n",
    "    def __init__(self, input_dim, hidden_dim, dropout, n_class):\n",
    "        super(Ensemble_Baseline, self).__init__()\n",
    "        self.fc1 = nn.Linear(2*input_dim, hidden_dim)\n",
    "        self.fc2 = nn.Linear(hidden_dim, hidden_dim//2)\n",
    "        self.fc3 = nn.Linear(hidden_dim//2, n_class)\n",
    "        self.relu = nn.ReLU()\n",
    "        self.dropout = nn.Dropout(dropout)\n",
    "\n",
    "    def forward(self, x_seq, x_str):\n",
    "        x = torch.cat((x_seq, x_str), dim=1)\n",
    "        x = self.relu(self.fc1(x))\n",
    "        x = self.dropout(x)\n",
    "\n",
    "        x = self.relu(self.fc2(x))    \n",
    "        x = self.dropout(x)\n",
    "        out = self.fc3(x)\n",
    "\n",
    "        return F.log_softmax(out, dim=1)\n"
   ]
  },
  {
   "cell_type": "code",
   "execution_count": 5,
   "id": "49cc86c9",
   "metadata": {},
   "outputs": [],
   "source": [
    "# Initializes model and optimizer\n",
    "model = Ensemble_Baseline(input_dim, hidden_dim, dropout, n_class).to(device)\n",
    "optimizer = optim.Adam(model.parameters(), lr=learning_rate)\n",
    "loss_function = nn.CrossEntropyLoss()"
   ]
  },
  {
   "cell_type": "code",
   "execution_count": 6,
   "id": "68e07600",
   "metadata": {
    "scrolled": false
   },
   "outputs": [
    {
     "name": "stdout",
     "output_type": "stream",
     "text": [
      "Epoch: 001 loss_train: 2.4782 time: 0.9118s\n",
      "Epoch: 006 loss_train: 2.1346 time: 0.0350s\n",
      "Epoch: 011 loss_train: 2.1236 time: 0.0347s\n",
      "Epoch: 016 loss_train: 2.1188 time: 0.0347s\n",
      "Epoch: 021 loss_train: 2.1160 time: 0.0347s\n",
      "Epoch: 026 loss_train: 2.1141 time: 0.0347s\n",
      "Epoch: 031 loss_train: 2.1126 time: 0.0346s\n",
      "Epoch: 036 loss_train: 2.1116 time: 0.0344s\n",
      "Epoch: 041 loss_train: 2.1106 time: 0.0323s\n",
      "Epoch: 046 loss_train: 2.1106 time: 0.0322s\n"
     ]
    }
   ],
   "source": [
    "# Train model\n",
    "#tb = SummaryWriter()\n",
    "for epoch in range(epochs):\n",
    "    t = time.time()\n",
    "    model.train()\n",
    "    train_loss = 0\n",
    "    correct = 0\n",
    "    count = 0\n",
    "    # Iterate over the batches\n",
    "    for i in range(0, 1223, batch_size):\n",
    "\n",
    "        x_seq_batch = torch.FloatTensor(X_train_seq[i:min(i+batch_size, 1223)]).to(device)\n",
    "        x_str_batch = torch.FloatTensor(X_train_str[i:min(i+batch_size, 1223)]).to(device)\n",
    "        y_batch = torch.FloatTensor(y_train[i:min(i+batch_size, 1223)]).to(device)\n",
    "        \n",
    "        optimizer.zero_grad()\n",
    "        output = model(x_seq_batch, x_str_batch)\n",
    "        loss = loss_function(output, y_batch)\n",
    "        train_loss += loss.item() * output.size(0)\n",
    "        count += output.size(0)\n",
    "        preds = output.max(1)[1].type_as(y_batch)\n",
    "\n",
    "        loss.backward()\n",
    "        optimizer.step()\n",
    "            \n",
    "    # Tensorboard\n",
    "#     tb.add_scalar('loss_train: {:.4f}'.format(train_loss / count), epoch+1)\n",
    "#     tb.add_scalar('acc_train: {:.4f}'.format(correct / count), epoch+1)\n",
    "    \n",
    "    if epoch % 5 == 0:\n",
    "        print('Epoch: {:03d}'.format(epoch+1),\n",
    "              'loss_train: {:.4f}'.format(train_loss / count),\n",
    "              'time: {:.4f}s'.format(time.time() - t))\n",
    "\n",
    "        \n",
    "# tb.flush()\n",
    "# tb.close()\n",
    "\n",
    "        \n",
    "#run tensorboard --logdir=runs"
   ]
  },
  {
   "cell_type": "code",
   "execution_count": 7,
   "id": "82ee6be3",
   "metadata": {},
   "outputs": [
    {
     "ename": "NameError",
     "evalue": "name 'DataLoader' is not defined",
     "output_type": "error",
     "traceback": [
      "\u001b[0;31m---------------------------------------------------------------------------\u001b[0m",
      "\u001b[0;31mNameError\u001b[0m                                 Traceback (most recent call last)",
      "Cell \u001b[0;32mIn [7], line 3\u001b[0m\n\u001b[1;32m      1\u001b[0m model\u001b[38;5;241m.\u001b[39meval()\n\u001b[1;32m      2\u001b[0m \u001b[38;5;28;01mwith\u001b[39;00m torch\u001b[38;5;241m.\u001b[39mno_grad():\n\u001b[0;32m----> 3\u001b[0m     dataloader \u001b[38;5;241m=\u001b[39m \u001b[43mDataLoader\u001b[49m(dataset\u001b[38;5;241m=\u001b[39mtest_ohe,\n\u001b[1;32m      4\u001b[0m                             batch_size\u001b[38;5;241m=\u001b[39m\u001b[38;5;241m1\u001b[39m,\n\u001b[1;32m      5\u001b[0m                             shuffle\u001b[38;5;241m=\u001b[39m\u001b[38;5;28;01mTrue\u001b[39;00m,\n\u001b[1;32m      6\u001b[0m                             pin_memory\u001b[38;5;241m=\u001b[39m\u001b[38;5;28;01mTrue\u001b[39;00m,\n\u001b[1;32m      7\u001b[0m                             drop_last\u001b[38;5;241m=\u001b[39m\u001b[38;5;28;01mTrue\u001b[39;00m,\n\u001b[1;32m      8\u001b[0m                             )\n\u001b[1;32m      9\u001b[0m     y_pred \u001b[38;5;241m=\u001b[39m torch\u001b[38;5;241m.\u001b[39mzeros(\u001b[38;5;241m1\u001b[39m,\u001b[38;5;241m18\u001b[39m)\u001b[38;5;241m.\u001b[39mto(device)\n\u001b[1;32m     10\u001b[0m     \u001b[38;5;28;01mfor\u001b[39;00m idx, data \u001b[38;5;129;01min\u001b[39;00m \u001b[38;5;28menumerate\u001b[39m(dataloader):\n",
      "\u001b[0;31mNameError\u001b[0m: name 'DataLoader' is not defined"
     ]
    }
   ],
   "source": [
    "model.eval()\n",
    "with torch.no_grad():\n",
    "    dataloader = DataLoader(dataset=test_ohe,\n",
    "                            batch_size=1,\n",
    "                            shuffle=True,\n",
    "                            pin_memory=True,\n",
    "                            drop_last=True,\n",
    "                            )\n",
    "    y_pred = torch.zeros(1,18).to(device)\n",
    "    for idx, data in enumerate(dataloader):\n",
    "        y_pred = torch.cat([y_pred, model(data.to(device))[0]], 0)\n",
    "    y_pred = y_pred[1:]\n"
   ]
  },
  {
   "cell_type": "code",
   "execution_count": null,
   "id": "91cc34cc",
   "metadata": {},
   "outputs": [],
   "source": [
    "print(y_pred)"
   ]
  },
  {
   "cell_type": "code",
   "execution_count": null,
   "id": "831e619e",
   "metadata": {},
   "outputs": [],
   "source": [
    "import csv\n",
    "# Write predictions to a file\n",
    "with open('sample_submission_han.csv', 'w') as csvfile:\n",
    "    writer = csv.writer(csvfile, delimiter=',')\n",
    "    lst = list()\n",
    "    for i in range(18):\n",
    "        lst.append('class'+str(i))\n",
    "    lst.insert(0, \"name\")\n",
    "    writer.writerow(lst)\n",
    "    for i, protein in enumerate(proteins_test):\n",
    "        lst = y_pred[i].tolist()\n",
    "        lst.insert(0, protein)\n",
    "        writer.writerow(lst)"
   ]
  }
 ],
 "metadata": {
  "kernelspec": {
   "display_name": "datacamp",
   "language": "python",
   "name": "python3"
  },
  "language_info": {
   "codemirror_mode": {
    "name": "ipython",
    "version": 3
   },
   "file_extension": ".py",
   "mimetype": "text/x-python",
   "name": "python",
   "nbconvert_exporter": "python",
   "pygments_lexer": "ipython3",
   "version": "3.10.4 | packaged by conda-forge | (main, Mar 30 2022, 08:38:02) [MSC v.1916 64 bit (AMD64)]"
  },
  "vscode": {
   "interpreter": {
    "hash": "044555d8adb5ccbd0ee428ac42afb0cd0f65da5ec357e768e8af7917df676d49"
   }
  }
 },
 "nbformat": 4,
 "nbformat_minor": 5
}
