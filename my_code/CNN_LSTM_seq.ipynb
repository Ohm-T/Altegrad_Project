{
 "cells": [
  {
   "cell_type": "markdown",
   "id": "898e89ae",
   "metadata": {},
   "source": [
    "## Data preparation"
   ]
  },
  {
   "cell_type": "code",
   "execution_count": 1,
   "id": "ece4d177",
   "metadata": {},
   "outputs": [
    {
     "name": "stderr",
     "output_type": "stream",
     "text": [
      "2023-01-05 08:21:01.444312: I tensorflow/core/platform/cpu_feature_guard.cc:193] This TensorFlow binary is optimized with oneAPI Deep Neural Network Library (oneDNN) to use the following CPU instructions in performance-critical operations:  SSE4.1 SSE4.2 AVX AVX2 FMA\n",
      "To enable them in other operations, rebuild TensorFlow with the appropriate compiler flags.\n"
     ]
    }
   ],
   "source": [
    "import os\n",
    "import csv\n",
    "import pandas as pd\n",
    "import numpy as np\n",
    "import time\n",
    "import torch\n",
    "import torch.nn as nn\n",
    "from torch import optim\n",
    "import torch.nn.functional as F\n",
    "from torch.utils.data import DataLoader\n",
    "from torch.utils.data import Dataset\n",
    "from torch.autograd import Variable\n",
    "\n",
    "from sklearn.metrics import accuracy_score, log_loss\n",
    "from sklearn.feature_extraction.text import TfidfVectorizer\n",
    "from sklearn.linear_model import LogisticRegression\n",
    "from sklearn.preprocessing import LabelBinarizer\n",
    "\n",
    "from keras.utils import pad_sequences\n",
    "from keras.preprocessing.text import Tokenizer\n",
    "import matplotlib.pyplot as plt"
   ]
  },
  {
   "cell_type": "code",
   "execution_count": 3,
   "id": "3768dc34",
   "metadata": {},
   "outputs": [],
   "source": [
    "# Read sequences\n",
    "sequences = list()\n",
    "with open(os.path.join('data', 'sequences.txt'), 'r') as f:\n",
    "    for line in f:\n",
    "        sequences.append(line[:-1])\n",
    "\n",
    "# Split data into training and test sets\n",
    "sequences_train = list()\n",
    "sequences_test = list()\n",
    "proteins_test = list()\n",
    "y_train = list()\n",
    "with open(os.path.join('data', 'graph_labels.txt'), 'r') as f:\n",
    "    for i,line in enumerate(f):\n",
    "        t = line.split(',')\n",
    "        if len(t[1][:-1]) == 0:\n",
    "            proteins_test.append(t[0])\n",
    "            sequences_test.append(sequences[i])\n",
    "        else:\n",
    "            sequences_train.append(sequences[i])\n",
    "            y_train.append(int(t[1][:-1]))"
   ]
  },
  {
   "cell_type": "code",
   "execution_count": 3,
   "id": "eef799a4",
   "metadata": {},
   "outputs": [],
   "source": [
    "df_train = pd.DataFrame(zip(sequences_train, y_train), columns = ['Sequence', 'Label'])"
   ]
  },
  {
   "cell_type": "code",
   "execution_count": 4,
   "id": "cd8030f3",
   "metadata": {},
   "outputs": [
    {
     "data": {
      "text/plain": [
       "<AxesSubplot:>"
      ]
     },
     "execution_count": 4,
     "metadata": {},
     "output_type": "execute_result"
    },
    {
     "data": {
      "image/png": "[encoded data removed]",
      "text/plain": [
       "<Figure size 640x480 with 1 Axes>"
      ]
     },
     "metadata": {},
     "output_type": "display_data"
    }
   ],
   "source": [
    "df_train.Label.value_counts().plot(kind='bar')"
   ]
  },
  {
   "cell_type": "code",
   "execution_count": 5,
   "id": "d42cd26c",
   "metadata": {},
   "outputs": [
    {
     "name": "stdout",
     "output_type": "stream",
     "text": [
      "X_train shape: (4888, 600) X_test shape: (1224, 600) y_train shape: (4888, 18) y_test shape: torch.Size([1223, 18])\n"
     ]
    }
   ],
   "source": [
    "# Encode Labels\n",
    "lb = LabelBinarizer()\n",
    "y_train = lb.fit_transform(df_train['Label'])\n",
    "\n",
    "# Tokenize Sequence with keras\n",
    "max_len = 600\n",
    "tokenizer = Tokenizer(char_level=True)\n",
    "tokenizer.fit_on_texts(sequences)\n",
    "\n",
    "# Tokenise Sequence with TFIDF\n",
    "# vec = TfidfVectorizer(analyzer='char', ngram_range=(1, 3))\n",
    "# X_train = vec.fit_transform(sequences_train)\n",
    "# X_test = vec.transform(sequences_test)\n",
    "\n",
    "X_test = tokenizer.texts_to_sequences(sequences_test)\n",
    "X_test = pad_sequences(X_test, maxlen=max_len)\n",
    "\n",
    "# Not real y_test but y_test from initial model\n",
    "df_test = pd.read_csv('sample_submission/sample_submission_test.csv', sep=',')\n",
    "y_test = torch.LongTensor(df_test.iloc[:, 1:].to_numpy())\n",
    "\n",
    "\n",
    "# Deal with last batch size\n",
    "X_test = np.vstack((X_test, np.zeros((1, max_len))))\n",
    "X_train = tokenizer.texts_to_sequences(sequences_train)\n",
    "X_train = pad_sequences(X_train, maxlen=max_len)\n",
    "print('X_train shape:', X_train.shape, 'X_test shape:', X_test.shape, 'y_train shape:', y_train.shape, 'y_test shape:', y_test.shape)"
   ]
  },
  {
   "cell_type": "code",
   "execution_count": 6,
   "id": "30153201",
   "metadata": {},
   "outputs": [],
   "source": [
    "# Create Dataset\n",
    "\n",
    "class Sequence_Dataset(Dataset):\n",
    "    def __init__(self, data, labels):\n",
    "        self.data = data\n",
    "        self.labels = labels\n",
    "    \n",
    "    def __len__(self):\n",
    "        return len(self.data)\n",
    "    \n",
    "    def __getitem__(self, index):\n",
    "        x = self.data[index]\n",
    "        y = self.labels[index]\n",
    "        return x, y"
   ]
  },
  {
   "cell_type": "markdown",
   "id": "f0554c44",
   "metadata": {},
   "source": [
    "## Models"
   ]
  },
  {
   "cell_type": "code",
   "execution_count": 7,
   "id": "0ef42502",
   "metadata": {},
   "outputs": [],
   "source": [
    "# All parameters\n",
    "\n",
    "vocab_size = len(np.unique(X_train))\n",
    "sequence_length = max_len\n",
    "embedding_size = 21\n",
    "hidden_size = 512\n",
    "num_classes = 18 # number of different proteins\n",
    "lr = 0.001\n",
    "batch_size = 136\n",
    "dropout = 0.7\n",
    "n_epochs = 30\n",
    "device = torch.device('cuda' if torch.cuda.is_available() else 'cpu')\n",
    "torch.cuda.get_device_name()\n",
    "\n",
    "# BiLSTM Params\n",
    "num_layers = 3 # number of layers for BiLTSM model\n",
    "\n",
    "# CNN Params\n",
    "n_filters = 300\n",
    "filter_sizes = [3, 10, 20, 40]"
   ]
  },
  {
   "cell_type": "code",
   "execution_count": 8,
   "id": "5791438a",
   "metadata": {},
   "outputs": [
    {
     "name": "stdout",
     "output_type": "stream",
     "text": [
      "BiLSTM(\n",
      "  (embedding): Embedding(22, 21)\n",
      "  (lstm): LSTM(21, 512, num_layers=3, batch_first=True, bidirectional=True)\n",
      "  (dropout): Dropout(p=0.3, inplace=False)\n",
      "  (fc1): Linear(in_features=1024, out_features=128, bias=True)\n",
      "  (fc2): Linear(in_features=128, out_features=18, bias=True)\n",
      ")\n"
     ]
    }
   ],
   "source": [
    "class BiLSTM(nn.Module):\n",
    "    def __init__(self, vocab_size, embedding_size, hidden_size, num_layers, num_classes, batch_size):\n",
    "        \"\"\"\n",
    "        vocab_size: int, number of words in vocbulary\n",
    "        emedding_size: int, embedding dimension\n",
    "        hidden_size: int, size of hidden layer\n",
    "        num_layers: int, number of LSTM layers\n",
    "        num_classes: number of classes\n",
    "        batch_size: size of mini batches\n",
    "        \"\"\"\n",
    "        super(BiLSTM, self).__init__()\n",
    "        self.hidden_size = hidden_size\n",
    "        self.num_layers = num_layers\n",
    "        self.batch_size = batch_size\n",
    "        self.embedding = nn.Embedding(vocab_size, embedding_size)\n",
    "        # self.hidden = self.init_hidden()\n",
    "        self.lstm = nn.LSTM(embedding_size, hidden_size, num_layers, batch_first=True, bidirectional=True)\n",
    "        self.dropout = nn.Dropout(0.3)\n",
    "        self.fc1 = nn.Linear(hidden_size*2, 128)\n",
    "        self.fc2 = nn.Linear(128, num_classes)\n",
    "  \n",
    "    def init_hidden(self):\n",
    "        # initialise hidden & cell state\n",
    "        h0 = Variable(torch.zeros(self.num_layers*2, self.batch_size, self.hidden_size)).to(device)\n",
    "        c0 = Variable(torch.zeros(self.num_layers*2, self.batch_size, self.hidden_size)).to(device)\n",
    "        return (h0, c0)\n",
    "\n",
    "    def forward(self, inputs, hidden):\n",
    "        x = self.embedding(inputs) # x=[batch_size, sequence_len, embedding_size]\n",
    "        # lstm_out, self.hidden = self.lstm(x, self.hidden) # lstm_out=[batch_size, sequence_len, hidden_size]\n",
    "        lstm_out, hidden = self.lstm(x, hidden)\n",
    "        lstm_out = lstm_out.permute(1,0,2) # lstm_out=[sequence_len, batch_size, hidden_size]\n",
    "        y = self.fc1(lstm_out[-1]) # take last hidden state, y=[batch_size, num_classes]\n",
    "        y = F.leaky_relu(y, 0.1)\n",
    "        y = self.dropout(y)\n",
    "        y = self.fc2(y)\n",
    "        probs = F.log_softmax(y, dim=1) # probs=[batch_size, num_classes]\n",
    "        return probs\n",
    "\n",
    "# generate model instance\n",
    "bilstm_model = BiLSTM(vocab_size, embedding_size, hidden_size, num_layers, num_classes, batch_size).to(device)\n",
    "print(bilstm_model)"
   ]
  },
  {
   "cell_type": "code",
   "execution_count": 9,
   "id": "97521d98",
   "metadata": {},
   "outputs": [
    {
     "name": "stdout",
     "output_type": "stream",
     "text": [
      "CNN(\n",
      "  (embedding): Embedding(22, 21)\n",
      "  (convs): ModuleList(\n",
      "    (0): Conv2d(1, 300, kernel_size=(3, 21), stride=(1, 1))\n",
      "    (1): Conv2d(1, 300, kernel_size=(10, 21), stride=(1, 1))\n",
      "    (2): Conv2d(1, 300, kernel_size=(20, 21), stride=(1, 1))\n",
      "    (3): Conv2d(1, 300, kernel_size=(40, 21), stride=(1, 1))\n",
      "  )\n",
      "  (dropout): Dropout(p=0.5, inplace=False)\n",
      "  (fc1): Linear(in_features=1200, out_features=512, bias=True)\n",
      "  (fc2): Linear(in_features=512, out_features=18, bias=True)\n",
      ")\n"
     ]
    }
   ],
   "source": [
    "\n",
    "class CNN(nn.Module):\n",
    "    \"\"\"\n",
    "    vocab_size: int, number of words in vocbulary\n",
    "    emedding_size: int, embedding dimension\n",
    "    hidden_size: int, size of hidden layer\n",
    "    n_filters: int, number of filters to use per conv layer\n",
    "    filter_sizes: list(int), list of conv filter sizes\n",
    "    batch_size: size of mini batches\n",
    "    \"\"\"\n",
    "    def __init__(self, vocab_size, embedding_size, hidden_size, n_filters, filter_sizes, num_classes):\n",
    "        super(CNN, self).__init__()        \n",
    "        self.embedding = nn.Embedding(vocab_size, embedding_size)\n",
    "        self.convs = nn.ModuleList([nn.Conv2d(in_channels=1, out_channels=n_filters, kernel_size=(fs, embedding_size)) for fs in filter_sizes]).to(device)\n",
    "        self.dropout = nn.Dropout(0.5)\n",
    "        self.fc1 = nn.Linear(len(filter_sizes)*n_filters, hidden_size, bias=True)  \n",
    "        self.fc2 = nn.Linear(hidden_size, num_classes, bias=True)\n",
    "\n",
    "    def forward(self, inputs):\n",
    "        x = self.embedding(inputs) # x=[batch_size, seq_len, embedding_size]\n",
    "        x = x.unsqueeze(1) # x=[batch_size, 1, seq_len, embedding_size]  \n",
    "        conv_out = [F.relu(conv(x)).squeeze(3) for conv in self.convs] # conv_n = [batch size, n_filters, seq_len - filter_sizes[n]]\n",
    "        pool_out = [F.max_pool1d(conv, conv.shape[2]).squeeze(2) for conv in conv_out] # pool_n = [batch size, n_filters]\n",
    "        cat = self.dropout(torch.cat(pool_out, dim = 1)) # cat = [batch size, len(filter_sizes)*n_filters]\n",
    "        y = self.fc1(F.relu(cat))\n",
    "        y = self.dropout(y)\n",
    "        y = self.fc2(y)\n",
    "        probs = F.log_softmax(y, dim=1) # probs=[batch_size, num_classes]\n",
    "        return probs\n",
    "\n",
    "cnn_model = CNN(vocab_size, embedding_size, hidden_size, n_filters, filter_sizes, num_classes).to(device)\n",
    "print(cnn_model)"
   ]
  },
  {
   "cell_type": "code",
   "execution_count": 10,
   "id": "c9ae2683",
   "metadata": {},
   "outputs": [],
   "source": [
    "class CNN_BiLSTM(nn.Module):\n",
    "    def __init__(self, vocab_size, embedding_size, hidden_size, n_filters, filter_sizes, num_layers, num_classes, batch_size, dropout):\n",
    "        \"\"\"\n",
    "        vocab_size: int, number of words in vocbulary\n",
    "        emedding_size: int, embedding dimension\n",
    "        hidden_size: int, size of hidden layer\n",
    "        num_layers: int, number of LSTM layers\n",
    "        num_classes: number of classes\n",
    "        batch_size: size of mini batches\n",
    "        \"\"\"\n",
    "        super(CNN_BiLSTM, self).__init__()\n",
    "        self.hidden_size = hidden_size\n",
    "        self.num_layers = num_layers\n",
    "        self.batch_size = batch_size\n",
    "        self.embedding = nn.Embedding(vocab_size, embedding_size)\n",
    "        self.convs = nn.ModuleList([nn.Conv2d(in_channels=1, out_channels=n_filters, kernel_size=(fs, embedding_size)) for fs in filter_sizes]).to(device)\n",
    "\n",
    "        self.lstm = nn.LSTM(embedding_size, hidden_size, num_layers, batch_first=True, bidirectional=True)\n",
    "        self.dropout = nn.Dropout(dropout)\n",
    "        l = n_filters*len(filter_sizes) + hidden_size*2\n",
    "        self.fc1 = nn.Linear(l, l//2)\n",
    "        self.fc2 = nn.Linear(l//2, num_classes)\n",
    "  \n",
    "    def init_hidden(self):\n",
    "        # initialise hidden & cell state\n",
    "        h0 = Variable(torch.zeros(self.num_layers*2, self.batch_size, self.hidden_size)).to(device)\n",
    "        c0 = Variable(torch.zeros(self.num_layers*2, self.batch_size, self.hidden_size)).to(device)\n",
    "        return (h0, c0)\n",
    "\n",
    "    def forward(self, inputs, hidden):\n",
    "        x = self.embedding(inputs) # x=[batch_size, seq_len, embedding_size]\n",
    "\n",
    "        cnn_x = x.unsqueeze(1) # x=[batch_size, 1, seq_len, embedding_size]  \n",
    "        cnn_x = [F.relu(conv(cnn_x)).squeeze(3) for conv in self.convs] # conv_n = [batch size, n_filters, seq_len - filter_sizes[n]]\n",
    "        cnn_x = [F.max_pool1d(conv, conv.shape[2]).squeeze(2) for conv in cnn_x]\n",
    "        cnn_out = self.dropout(torch.cat(cnn_x, dim = 1))\n",
    "\n",
    "        lstm_out, hidden = self.lstm(x, hidden)\n",
    "        lstm_out = lstm_out.permute(1,0,2) # lstm_out=[sequence_len, batch_size, hidden_size] because batch_first = True\n",
    "        # feature extraction 1 using maxpool1d over all states\n",
    "        # lstm_out = th.transpose(lstm_out, 0, 1)\n",
    "        # lstm_out = th.transpose(lstm_out, 1, 2)\n",
    "        # lstm_out = F.max_pool1d(lstm_out, lstm_out.size(2)).squeeze(2)\n",
    "        # feature extraction 2 taking last hidden state\n",
    "        lstm_out = lstm_out[-1]\n",
    "        lstm_out = F.relu(lstm_out)\n",
    "\n",
    "        # concatenate CNN and LSTM output before FC layers\n",
    "        cnn_out = torch.transpose(cnn_out, 0, 1)\n",
    "        lstm_out = torch.transpose(lstm_out, 0, 1)\n",
    "        cnn_lstm_out = torch.cat((cnn_out, lstm_out), 0)\n",
    "        cnn_lstm_out = torch.transpose(cnn_lstm_out, 0, 1)\n",
    "\n",
    "        # FC layers\n",
    "        y = F.relu(cnn_lstm_out)\n",
    "        y = self.fc1(y)\n",
    "        y = self.dropout(y)\n",
    "        y = F.relu(y)\n",
    "        y = self.fc2(y)\n",
    "        probs = F.log_softmax(y, dim=1) # probs=[batch_size, num_classes]\n",
    "        return probs\n",
    "\n",
    "# generate model instance\n",
    "# cnnbilstm_model = CNN_BiLSTM(vocab_size, embedding_size, hidden_size, n_filters, filter_sizes, num_layers, num_classes, batch_size).to(device)\n",
    "# print(cnnbilstm_model)\n",
    "     "
   ]
  },
  {
   "cell_type": "markdown",
   "id": "bdca6f6e",
   "metadata": {},
   "source": [
    "## Training"
   ]
  },
  {
   "cell_type": "code",
   "execution_count": 11,
   "id": "b8c10474",
   "metadata": {},
   "outputs": [],
   "source": [
    "# Batch training loop\n",
    "def train(dataloader, model, optimizer, criterion, pred_func):\n",
    "    \"\"\"\n",
    "    Main function for training LSTM model and printing prompt\n",
    "    \"\"\"\n",
    "    model.train()\n",
    "    total_acc, total_count = 0, 0\n",
    "    log_interval = 11\n",
    "    start_time = time.time()\n",
    "\n",
    "    for idx, (batch, label) in enumerate(dataloader):\n",
    "        batch, label = batch.to(device), label.to(device)\n",
    "        model.zero_grad()\n",
    "        model, pred = pred_func(model, batch)\n",
    "        label = torch.argmax(label, 1) # one_hot --> indexing\n",
    "        loss = criterion(pred, label)\n",
    "        loss.backward()\n",
    "        torch.nn.utils.clip_grad_norm_(model.parameters(), 0.1)\n",
    "        optimizer.step()\n",
    "        total_acc += (pred.argmax(1) == label).sum().item()\n",
    "        total_count += label.size(0)\n",
    "        if idx % log_interval == 0 and idx > 0:\n",
    "            elapsed = time.time() - start_time\n",
    "            print('| epoch {:3d} | {:5d}/{:5d} batches '\n",
    "                  '| accuracy {:8.3f}'.format(epoch, idx, len(dataloader), total_acc/total_count))\n",
    "            total_acc, total_count = 0, 0\n",
    "            start_time = time.time()\n",
    "\n",
    "\n",
    "\n",
    "def append_metrics(history, metrics):\n",
    "    \"\"\" append metrics dictionary to history dictionary \"\"\"\n",
    "    for key in metrics.keys():\n",
    "        history[key].append(metrics[key])\n",
    "    return history\n",
    "\n",
    "def LSTM_pred(model, batch):\n",
    "    \"\"\" LSTM initialisation and prediction for training loop \"\"\"\n",
    "    hidden = model.init_hidden() # initalise hidden states\n",
    "    pred = model(batch, hidden)\n",
    "    return model, pred\n",
    "\n",
    "def CNN_pred(model, batch):\n",
    "    \"\"\" CNN prediction for taining loop \"\"\"\n",
    "    pred = model(batch)\n",
    "    return model, pred"
   ]
  },
  {
   "cell_type": "code",
   "execution_count": 12,
   "id": "c240e986",
   "metadata": {},
   "outputs": [],
   "source": [
    "train_set = Sequence_Dataset(X_train, y_train)\n",
    "train_loader = DataLoader(train_set, batch_size=batch_size, shuffle=True, drop_last=True)\n",
    "#model = BiLSTM(vocab_size, embedding_size, hidden_size, num_layers, num_classes, batch_size).to(device)\n",
    "model = CNN_BiLSTM(vocab_size, embedding_size, hidden_size, n_filters, filter_sizes, num_layers, num_classes, batch_size, dropout).to(device)\n",
    "pred_func = LSTM_pred\n",
    "name = model.__class__.__name__ # model name\n",
    "\n",
    "criterion = nn.CrossEntropyLoss()\n",
    "optimizer = optim.Adam(model.parameters(), lr=lr)\n",
    "scheduler = optim.lr_scheduler.StepLR(optimizer, step_size=1., gamma=0.1)\n"
   ]
  },
  {
   "cell_type": "code",
   "execution_count": 13,
   "id": "cf224b56",
   "metadata": {
    "scrolled": true
   },
   "outputs": [
    {
     "name": "stdout",
     "output_type": "stream",
     "text": [
      "| epoch   1 |    11/   35 batches | accuracy    0.162\n",
      "| epoch   1 |    22/   35 batches | accuracy    0.172\n",
      "| epoch   1 |    33/   35 batches | accuracy    0.200\n",
      "| epoch   2 |    11/   35 batches | accuracy    0.206\n",
      "| epoch   2 |    22/   35 batches | accuracy    0.209\n",
      "| epoch   2 |    33/   35 batches | accuracy    0.219\n",
      "| epoch   3 |    11/   35 batches | accuracy    0.256\n",
      "| epoch   3 |    22/   35 batches | accuracy    0.258\n",
      "| epoch   3 |    33/   35 batches | accuracy    0.285\n",
      "| epoch   4 |    11/   35 batches | accuracy    0.278\n",
      "| epoch   4 |    22/   35 batches | accuracy    0.258\n",
      "| epoch   4 |    33/   35 batches | accuracy    0.269\n",
      "| epoch   5 |    11/   35 batches | accuracy    0.274\n",
      "| epoch   5 |    22/   35 batches | accuracy    0.307\n",
      "| epoch   5 |    33/   35 batches | accuracy    0.314\n",
      "| epoch   6 |    11/   35 batches | accuracy    0.326\n",
      "| epoch   6 |    22/   35 batches | accuracy    0.318\n",
      "| epoch   6 |    33/   35 batches | accuracy    0.307\n",
      "| epoch   7 |    11/   35 batches | accuracy    0.339\n",
      "| epoch   7 |    22/   35 batches | accuracy    0.362\n",
      "| epoch   7 |    33/   35 batches | accuracy    0.332\n",
      "| epoch   8 |    11/   35 batches | accuracy    0.361\n",
      "| epoch   8 |    22/   35 batches | accuracy    0.366\n",
      "| epoch   8 |    33/   35 batches | accuracy    0.357\n",
      "| epoch   9 |    11/   35 batches | accuracy    0.385\n",
      "| epoch   9 |    22/   35 batches | accuracy    0.393\n",
      "| epoch   9 |    33/   35 batches | accuracy    0.413\n",
      "| epoch  10 |    11/   35 batches | accuracy    0.416\n",
      "| epoch  10 |    22/   35 batches | accuracy    0.443\n",
      "| epoch  10 |    33/   35 batches | accuracy    0.417\n",
      "| epoch  11 |    11/   35 batches | accuracy    0.450\n",
      "| epoch  11 |    22/   35 batches | accuracy    0.463\n",
      "| epoch  11 |    33/   35 batches | accuracy    0.443\n",
      "| epoch  12 |    11/   35 batches | accuracy    0.480\n",
      "| epoch  12 |    22/   35 batches | accuracy    0.493\n",
      "| epoch  12 |    33/   35 batches | accuracy    0.475\n",
      "| epoch  13 |    11/   35 batches | accuracy    0.499\n",
      "| epoch  13 |    22/   35 batches | accuracy    0.519\n",
      "| epoch  13 |    33/   35 batches | accuracy    0.513\n",
      "| epoch  14 |    11/   35 batches | accuracy    0.534\n",
      "| epoch  14 |    22/   35 batches | accuracy    0.556\n",
      "| epoch  14 |    33/   35 batches | accuracy    0.547\n",
      "| epoch  15 |    11/   35 batches | accuracy    0.575\n",
      "| epoch  15 |    22/   35 batches | accuracy    0.572\n",
      "| epoch  15 |    33/   35 batches | accuracy    0.584\n",
      "| epoch  16 |    11/   35 batches | accuracy    0.624\n",
      "| epoch  16 |    22/   35 batches | accuracy    0.604\n",
      "| epoch  16 |    33/   35 batches | accuracy    0.608\n",
      "| epoch  17 |    11/   35 batches | accuracy    0.638\n",
      "| epoch  17 |    22/   35 batches | accuracy    0.640\n",
      "| epoch  17 |    33/   35 batches | accuracy    0.638\n",
      "| epoch  18 |    11/   35 batches | accuracy    0.670\n",
      "| epoch  18 |    22/   35 batches | accuracy    0.650\n",
      "| epoch  18 |    33/   35 batches | accuracy    0.620\n",
      "| epoch  19 |    11/   35 batches | accuracy    0.691\n",
      "| epoch  19 |    22/   35 batches | accuracy    0.674\n",
      "| epoch  19 |    33/   35 batches | accuracy    0.684\n",
      "| epoch  20 |    11/   35 batches | accuracy    0.705\n",
      "| epoch  20 |    22/   35 batches | accuracy    0.695\n",
      "| epoch  20 |    33/   35 batches | accuracy    0.704\n",
      "| epoch  21 |    11/   35 batches | accuracy    0.729\n",
      "| epoch  21 |    22/   35 batches | accuracy    0.721\n",
      "| epoch  21 |    33/   35 batches | accuracy    0.717\n",
      "| epoch  22 |    11/   35 batches | accuracy    0.733\n",
      "| epoch  22 |    22/   35 batches | accuracy    0.737\n",
      "| epoch  22 |    33/   35 batches | accuracy    0.734\n",
      "| epoch  23 |    11/   35 batches | accuracy    0.763\n",
      "| epoch  23 |    22/   35 batches | accuracy    0.739\n",
      "| epoch  23 |    33/   35 batches | accuracy    0.747\n",
      "| epoch  24 |    11/   35 batches | accuracy    0.781\n",
      "| epoch  24 |    22/   35 batches | accuracy    0.767\n",
      "| epoch  24 |    33/   35 batches | accuracy    0.785\n",
      "| epoch  25 |    11/   35 batches | accuracy    0.779\n",
      "| epoch  25 |    22/   35 batches | accuracy    0.775\n",
      "| epoch  25 |    33/   35 batches | accuracy    0.785\n",
      "| epoch  26 |    11/   35 batches | accuracy    0.803\n",
      "| epoch  26 |    22/   35 batches | accuracy    0.775\n",
      "| epoch  26 |    33/   35 batches | accuracy    0.797\n",
      "| epoch  27 |    11/   35 batches | accuracy    0.800\n",
      "| epoch  27 |    22/   35 batches | accuracy    0.820\n",
      "| epoch  27 |    33/   35 batches | accuracy    0.801\n",
      "| epoch  28 |    11/   35 batches | accuracy    0.825\n",
      "| epoch  28 |    22/   35 batches | accuracy    0.822\n",
      "| epoch  28 |    33/   35 batches | accuracy    0.825\n",
      "| epoch  29 |    11/   35 batches | accuracy    0.835\n",
      "| epoch  29 |    22/   35 batches | accuracy    0.840\n",
      "| epoch  29 |    33/   35 batches | accuracy    0.824\n",
      "| epoch  30 |    11/   35 batches | accuracy    0.846\n",
      "| epoch  30 |    22/   35 batches | accuracy    0.842\n",
      "| epoch  30 |    33/   35 batches | accuracy    0.833\n"
     ]
    }
   ],
   "source": [
    "for epoch in range(1, n_epochs+ 1):\n",
    "\n",
    "    # train\n",
    "    train(train_loader, model, optimizer, criterion, pred_func)\n",
    "    # evaluate\n",
    "    #train_metrics = evaluate(train_generator, model, criterion, pred_func)\n",
    "    # log history\n",
    "    #train_hist = append_metrics(train_hist, train_metrics)\n",
    "    # save model\n",
    "torch.save({'epoch': epoch,\n",
    "        'model_state_dict': model.state_dict(),\n",
    "        'optimizer_state_dict': optimizer.state_dict()},\n",
    "        os.path.join('Model_save', name +'_'+ str(epoch) +'_7.pt'))\n",
    "    # update accuracy for each epoch"
   ]
  },
  {
   "cell_type": "code",
   "execution_count": 14,
   "id": "4cb9cb10",
   "metadata": {},
   "outputs": [
    {
     "name": "stdout",
     "output_type": "stream",
     "text": [
      "['6qmn', 1.4313704355117807e-07, 1.784120702737202e-12, 1.3535021992083784e-09, 3.048105838843185e-07, 2.2147023770457963e-08, 1.1026561423932435e-06, 1.9625827007985208e-07, 3.3099814000792094e-09, 0.9999974966049194, 4.5327566700059663e-10, 6.2931966304802245e-09, 1.551747619288335e-09, 7.931713445763489e-12, 7.176720941970416e-07, 8.163706155528416e-09, 7.367943061220572e-12, 1.2006333705016914e-09, 5.810391612293131e-10]\n"
     ]
    }
   ],
   "source": [
    "# Evaluate model\n",
    "def evaluate(dataloader, model, criterion, pred_func):\n",
    "    model.eval()\n",
    "    y_pred_proba = list()\n",
    "    \n",
    "    with torch.no_grad():\n",
    "        tot_acc, tot_count = 0, 0\n",
    "        for idx, batch in enumerate(dataloader):\n",
    "            batch = batch.to(device)\n",
    "            _ , pred = pred_func(model, batch)\n",
    "            y_pred_proba.append(pred)\n",
    "    y_pred_proba = torch.cat(y_pred_proba, dim=0)  \n",
    "    y_pred_proba = torch.exp(y_pred_proba)\n",
    "    return y_pred_proba\n",
    "\n",
    "\n",
    "\n",
    "# Write predictions to a file\n",
    "test_dataloader = DataLoader(dataset=torch.LongTensor(X_test), batch_size=batch_size, drop_last=True)\n",
    "y_pred_proba = evaluate(test_dataloader, model, criterion, pred_func)[:-1]\n",
    "\n",
    "with open('sample_submission/sample_submission_CNN_BiLSTM_10.csv', 'w') as csvfile:\n",
    "    writer = csv.writer(csvfile, delimiter=',')\n",
    "    lst = list()\n",
    "    for i in range(18):\n",
    "        lst.append('class'+str(i))\n",
    "    lst.insert(0, \"name\")\n",
    "    writer.writerow(lst)\n",
    "    for i, protein in enumerate(proteins_test):\n",
    "        lst = y_pred_proba[i,:].tolist()\n",
    "        lst.insert(0, protein)\n",
    "        writer.writerow(lst)\n",
    "    print(lst)\n"
   ]
  },
  {
   "cell_type": "code",
   "execution_count": 48,
   "id": "e9b6e0f9",
   "metadata": {},
   "outputs": [
    {
     "name": "stdout",
     "output_type": "stream",
     "text": [
      "torch.Size([1087, 18])\n"
     ]
    }
   ],
   "source": [
    "#print(y_pred_proba[0], torch.argmin(y_pred_proba[0]))\n",
    "\n",
    "args_max = y_pred_proba.argmax(1)\n",
    "r = F.one_hot(args_max, num_classes = 18)\n",
    "print(r.size())"
   ]
  },
  {
   "cell_type": "code",
   "execution_count": 3,
   "id": "3db388e0",
   "metadata": {},
   "outputs": [],
   "source": [
    "res_pred = pd.read_csv('sample_submission_BiLSTM.csv', sep=',')"
   ]
  },
  {
   "cell_type": "code",
   "execution_count": 34,
   "id": "82543205",
   "metadata": {},
   "outputs": [
    {
     "name": "stdout",
     "output_type": "stream",
     "text": [
      "<class 'torch.Tensor'>\n"
     ]
    }
   ],
   "source": [
    "print(type(y_pred_proba))"
   ]
  }
 ],
 "metadata": {
  "kernelspec": {
   "display_name": "Python 3 (ipykernel)",
   "language": "python",
   "name": "python3"
  },
  "language_info": {
   "codemirror_mode": {
    "name": "ipython",
    "version": 3
   },
   "file_extension": ".py",
   "mimetype": "text/x-python",
   "name": "python",
   "nbconvert_exporter": "python",
   "pygments_lexer": "ipython3",
   "version": "3.10.8"
  }
 },
 "nbformat": 4,
 "nbformat_minor": 5
}
